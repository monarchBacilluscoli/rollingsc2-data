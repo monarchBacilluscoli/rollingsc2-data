{
 "metadata": {
  "language_info": {
   "codemirror_mode": {
    "name": "ipython",
    "version": 3
   },
   "file_extension": ".py",
   "mimetype": "text/x-python",
   "name": "python",
   "nbconvert_exporter": "python",
   "pygments_lexer": "ipython3",
   "version": "3.7.6-final"
  },
  "orig_nbformat": 2,
  "kernelspec": {
   "name": "Python 3.7.6 64-bit ('base': conda)",
   "display_name": "Python 3.7.6 64-bit ('base': conda)",
   "metadata": {
    "interpreter": {
     "hash": "3c13f7f9c10a80073d5b5724d6e32636fd317d747b6bea82865d3d6bda75ad09"
    }
   }
  }
 },
 "nbformat": 4,
 "nbformat_minor": 2,
 "cells": [
  {
   "cell_type": "code",
   "execution_count": 5,
   "metadata": {},
   "outputs": [],
   "source": [
    "import numpy as np\n",
    "import seaborn as sns\n",
    "import pandas as pd\n",
    "import re\n",
    "import sys\n",
    "from io import StringIO"
   ]
  },
  {
   "cell_type": "code",
   "execution_count": null,
   "metadata": {
    "tags": []
   },
   "outputs": [],
   "source": [
    "f_in = open(\"test_scores.txt\")\n",
    "line = f_in.readline()\n",
    "block = \"\"\n",
    "data_name = \"\"\n",
    "whole = pd.DataFrame(columns=['dmg', 'hurt', 'win_loop', 'hp_m', 'hp_e', 'rank', 'settings'])\n",
    "while line:\n",
    "    if (line.find(\"//\")!=-1):\n",
    "        print(line)\n",
    "    line = f_in.readline()"
   ]
  }
 ]
}